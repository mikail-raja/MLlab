{
  "nbformat": 4,
  "nbformat_minor": 0,
  "metadata": {
    "colab": {
      "provenance": []
    },
    "kernelspec": {
      "name": "python3",
      "display_name": "Python 3"
    },
    "language_info": {
      "name": "python"
    }
  },
  "cells": [
    {
      "cell_type": "markdown",
      "source": [
        "Import Libraries\n",
        "\n",
        "---\n",
        "\n"
      ],
      "metadata": {
        "id": "TOrB2Av9EcMu"
      }
    },
    {
      "cell_type": "code",
      "execution_count": null,
      "metadata": {
        "id": "GMfpLRZ2v3xW"
      },
      "outputs": [],
      "source": [
        "import pandas as pd\n",
        "import numpy as np "
      ]
    },
    {
      "cell_type": "markdown",
      "source": [
        "Read Data | Turn to Arrays\n",
        "\n",
        "---\n",
        "\n"
      ],
      "metadata": {
        "id": "xuAOaDpqEfIK"
      }
    },
    {
      "cell_type": "code",
      "source": [
        "data = pd.read_csv(\"Candidate_Elimination.csv\")\n",
        "print(data)\n",
        "\n",
        "\n",
        "concepts = np.array(data.iloc[:, :-1 ])\n",
        "print(\"\\n\\nInstances are : \", concepts)\n",
        "\n",
        "target = np.array(data.iloc[:,-1])\n",
        "print(\"\\n\\nTarger Values are : \", target)"
      ],
      "metadata": {
        "colab": {
          "base_uri": "https://localhost:8080/"
        },
        "id": "vNHZxpCuwWSa",
        "outputId": "cdf1f835-5f3a-44f9-cbb2-57a4dc010c4c"
      },
      "execution_count": null,
      "outputs": [
        {
          "output_type": "stream",
          "name": "stdout",
          "text": [
            "     Sky Temperature   Humid    Wind Water  Forest Output\n",
            "0  sunny        warm  normal  strong  warm    same    yes\n",
            "1  sunny        warm    high  strong  warm    same    yes\n",
            "2  rainy        cold    high  strong  warm  change     no\n",
            "3  sunny        warm    high  strong  cool  change    yes\n",
            "\n",
            "\n",
            "Instances are :  [['sunny' 'warm' 'normal' 'strong' 'warm' 'same']\n",
            " ['sunny' 'warm' 'high' 'strong' 'warm' 'same']\n",
            " ['rainy' 'cold' 'high' 'strong' 'warm' 'change']\n",
            " ['sunny' 'warm' 'high' 'strong' 'cool' 'change']]\n",
            "\n",
            "\n",
            "Targer Values are :  ['yes' 'yes' 'no' 'yes']\n"
          ]
        }
      ]
    },
    {
      "cell_type": "markdown",
      "source": [
        "*LEARNING FUNCTION*\n",
        "\n",
        "---"
      ],
      "metadata": {
        "id": "ytFzDwdlE890"
      }
    },
    {
      "cell_type": "code",
      "source": [
        "def learn(concepts, target):\n",
        "  specific_h = concepts[0].copy()\n",
        "  print(\"Initialization of Specific_h and General_h\")\n",
        "  print(f\"Specific Boundary : {specific_h}\")\n",
        "  general_h = [ ['?' for i in range(len(specific_h)) ] for i in range(len(specific_h)) ]\n",
        "  print(f\"General Boundary :  {general_h}\\n\\n\")\n",
        "  for i, h in enumerate(concepts):\n",
        "    print( f\"Instance {i+1} is {h}\" )\n",
        "    if target[i] == \"yes\":\n",
        "      print(\"Instance is Positive : \")\n",
        "      for x in range ( len(specific_h)):\n",
        "        if h[x] != specific_h[x]:\n",
        "          specific_h[x]= \"?\"\n",
        "          general_h[x][x] = \"?\"\n",
        "    if target[i] == \"no\":\n",
        "      print(\"Instance is Negative : \")\n",
        "      for x in range ( len(specific_h) ):\n",
        "        if h[x] != specific_h[x]:\n",
        "          general_h[x][x] = specific_h[x]\n",
        "        else:\n",
        "          general_h[x][x] = '?'\n",
        "    print(f\"Specific Boundary After {i+1} instance is {specific_h} \")\n",
        "    print(f\"General Boundary After {i+1} instance is {general_h} \\n\\n\")\n",
        "  indices = [i for i, val in enumerate(general_h) if val == ['?','?','?','?','?','?']]\n",
        "  for i in indices:\n",
        "    general_h.remove(['?','?','?','?','?','?'])\n",
        "  return specific_h, general_h"
      ],
      "metadata": {
        "id": "Sgs3bRsIyu9N"
      },
      "execution_count": null,
      "outputs": []
    },
    {
      "cell_type": "markdown",
      "source": [
        "Fetching Output\n",
        "\n",
        "---\n",
        "\n",
        "\n",
        "\n",
        "---\n",
        "\n"
      ],
      "metadata": {
        "id": "4uhO6QrCFRcT"
      }
    },
    {
      "cell_type": "code",
      "source": [
        "s_final, g_final = learn(concepts, target)\n",
        "print(\"Final Specific_h = \", s_final)\n",
        "print(f\"Final General_h = {g_final}\")"
      ],
      "metadata": {
        "colab": {
          "base_uri": "https://localhost:8080/"
        },
        "id": "CsX42_gL0HdE",
        "outputId": "6518aede-cb3b-4250-9aad-54abfd31cfcd"
      },
      "execution_count": null,
      "outputs": [
        {
          "output_type": "stream",
          "name": "stdout",
          "text": [
            "Initialization of Specific_h and General_h\n",
            "Specific Boundary : ['sunny' 'warm' 'normal' 'strong' 'warm' 'same']\n",
            "General Boundary :  [['?', '?', '?', '?', '?', '?'], ['?', '?', '?', '?', '?', '?'], ['?', '?', '?', '?', '?', '?'], ['?', '?', '?', '?', '?', '?'], ['?', '?', '?', '?', '?', '?'], ['?', '?', '?', '?', '?', '?']]\n",
            "\n",
            "\n",
            "Instance 1 is ['sunny' 'warm' 'normal' 'strong' 'warm' 'same']\n",
            "Instance is Positive : \n",
            "Specific Boundary After 1 instance is ['sunny' 'warm' 'normal' 'strong' 'warm' 'same'] \n",
            "General Boundary After 1 instance is [['?', '?', '?', '?', '?', '?'], ['?', '?', '?', '?', '?', '?'], ['?', '?', '?', '?', '?', '?'], ['?', '?', '?', '?', '?', '?'], ['?', '?', '?', '?', '?', '?'], ['?', '?', '?', '?', '?', '?']] \n",
            "\n",
            "\n",
            "Instance 2 is ['sunny' 'warm' 'high' 'strong' 'warm' 'same']\n",
            "Instance is Positive : \n",
            "Specific Boundary After 2 instance is ['sunny' 'warm' '?' 'strong' 'warm' 'same'] \n",
            "General Boundary After 2 instance is [['?', '?', '?', '?', '?', '?'], ['?', '?', '?', '?', '?', '?'], ['?', '?', '?', '?', '?', '?'], ['?', '?', '?', '?', '?', '?'], ['?', '?', '?', '?', '?', '?'], ['?', '?', '?', '?', '?', '?']] \n",
            "\n",
            "\n",
            "Instance 3 is ['rainy' 'cold' 'high' 'strong' 'warm' 'change']\n",
            "Instance is Negative : \n",
            "Specific Boundary After 3 instance is ['sunny' 'warm' '?' 'strong' 'warm' 'same'] \n",
            "General Boundary After 3 instance is [['sunny', '?', '?', '?', '?', '?'], ['?', 'warm', '?', '?', '?', '?'], ['?', '?', '?', '?', '?', '?'], ['?', '?', '?', '?', '?', '?'], ['?', '?', '?', '?', '?', '?'], ['?', '?', '?', '?', '?', 'same']] \n",
            "\n",
            "\n",
            "Instance 4 is ['sunny' 'warm' 'high' 'strong' 'cool' 'change']\n",
            "Instance is Positive : \n",
            "Specific Boundary After 4 instance is ['sunny' 'warm' '?' 'strong' '?' '?'] \n",
            "General Boundary After 4 instance is [['sunny', '?', '?', '?', '?', '?'], ['?', 'warm', '?', '?', '?', '?'], ['?', '?', '?', '?', '?', '?'], ['?', '?', '?', '?', '?', '?'], ['?', '?', '?', '?', '?', '?'], ['?', '?', '?', '?', '?', '?']] \n",
            "\n",
            "\n",
            "Final Specific_h = ['sunny' 'warm' '?' 'strong' '?' '?']\n",
            "Final General_h = [['sunny', '?', '?', '?', '?', '?'], ['?', 'warm', '?', '?', '?', '?']]\n"
          ]
        }
      ]
    }
  ]
}