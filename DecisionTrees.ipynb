{
 "cells": [
  {
   "cell_type": "markdown",
   "metadata": {
    "id": "OjmOroaE-vdC"
   },
   "source": [
    "#Importing required libraries"
   ]
  },
  {
   "cell_type": "code",
   "execution_count": null,
   "metadata": {
    "id": "7cZa1YTP-uUk"
   },
   "outputs": [],
   "source": [
    "#Importing required libraries\n",
    "import pandas as pd\n",
    "import numpy as np\n",
    "from sklearn.datasets import load_iris\n",
    "from sklearn.tree import DecisionTreeClassifier\n",
    "from sklearn.model_selection import train_test_split"
   ]
  },
  {
   "cell_type": "code",
   "execution_count": null,
   "metadata": {
    "colab": {
     "base_uri": "https://localhost:8080/"
    },
    "executionInfo": {
     "elapsed": 45,
     "status": "ok",
     "timestamp": 1660123381802,
     "user": {
      "displayName": "Mikail Raja",
      "userId": "15549851897916935678"
     },
     "user_tz": -330
    },
    "id": "zMC_jddU_DHu",
    "outputId": "e1b82e7c-56a5-4c1b-c6b4-ce8ec8e79a51"
   },
   "outputs": [
    {
     "name": "stdout",
     "output_type": "stream",
     "text": [
      "Classes to predict:  ['setosa' 'versicolor' 'virginica']\n"
     ]
    }
   ],
   "source": [
    "#Loading the iris data\n",
    "data = load_iris()\n",
    "print('Classes to predict: ', data.target_names)"
   ]
  },
  {
   "cell_type": "code",
   "execution_count": null,
   "metadata": {
    "colab": {
     "base_uri": "https://localhost:8080/"
    },
    "executionInfo": {
     "elapsed": 41,
     "status": "ok",
     "timestamp": 1660123381804,
     "user": {
      "displayName": "Mikail Raja",
      "userId": "15549851897916935678"
     },
     "user_tz": -330
    },
    "id": "T5AdLo3l_F27",
    "outputId": "abb076cf-23b5-4e9b-f97e-0ac4f59a09e3"
   },
   "outputs": [
    {
     "name": "stdout",
     "output_type": "stream",
     "text": [
      "Number of examples in the data: 150\n"
     ]
    }
   ],
   "source": [
    "# Extracting data attributes\n",
    "X = data.data\n",
    "# Extracting target/ class labels\n",
    "y = data.target\n",
    "print('Number of examples in the data:', X.shape[0])\n",
    "\n",
    "# \"\"\"There are 150 examples/ samples in the data. \n",
    "# The variable 'X' contains the attributes to the iris plant. \n",
    "# The cell below shows the 4 attributes of the first four iris plants.\"\"\""
   ]
  },
  {
   "cell_type": "code",
   "execution_count": null,
   "metadata": {
    "colab": {
     "base_uri": "https://localhost:8080/"
    },
    "executionInfo": {
     "elapsed": 36,
     "status": "ok",
     "timestamp": 1660123381806,
     "user": {
      "displayName": "Mikail Raja",
      "userId": "15549851897916935678"
     },
     "user_tz": -330
    },
    "id": "Wb2GgNWj_MVR",
    "outputId": "c2a9646f-6e54-415d-9d73-df1c614c470d"
   },
   "outputs": [
    {
     "data": {
      "text/plain": [
       "array([[5.1, 3.5, 1.4, 0.2],\n",
       "       [4.9, 3. , 1.4, 0.2],\n",
       "       [4.7, 3.2, 1.3, 0.2],\n",
       "       [4.6, 3.1, 1.5, 0.2]])"
      ]
     },
     "execution_count": 4,
     "metadata": {},
     "output_type": "execute_result"
    }
   ],
   "source": [
    "#First four rows in the variable 'X'\n",
    "X[:4]\n",
    "\n",
    "# \"\"\"Out: array([[5.1, 3.5, 1.4, 0.2],\n",
    "#        [4.9, 3. , 1.4, 0.2],\n",
    "#        [4.7, 3.2, 1.3, 0.2],\n",
    "#        [4.6, 3.1, 1.5, 0.2]])\"\"\""
   ]
  },
  {
   "cell_type": "code",
   "execution_count": null,
   "metadata": {
    "id": "3E33qdaF_b5-"
   },
   "outputs": [],
   "source": [
    "#Using the train_test_split to create train and test sets.\n",
    "X_train, X_test, y_train, y_test = train_test_split(X, y, random_state = 47, test_size = 0.25)\n"
   ]
  },
  {
   "cell_type": "code",
   "execution_count": null,
   "metadata": {
    "id": "KkyEwALb_ixu"
   },
   "outputs": [],
   "source": [
    "#Importing the Decision tree classifier from the sklearn library.\n",
    "from sklearn.tree import DecisionTreeClassifier\n",
    "clf = DecisionTreeClassifier(criterion = 'entropy')"
   ]
  },
  {
   "cell_type": "code",
   "execution_count": null,
   "metadata": {
    "colab": {
     "base_uri": "https://localhost:8080/",
     "height": 70
    },
    "executionInfo": {
     "elapsed": 34,
     "status": "ok",
     "timestamp": 1660123381810,
     "user": {
      "displayName": "Mikail Raja",
      "userId": "15549851897916935678"
     },
     "user_tz": -330
    },
    "id": "mw9alTnq_ktm",
    "outputId": "9dde9da1-3352-4b9f-facd-3c1289b3c569"
   },
   "outputs": [
    {
     "data": {
      "application/vnd.google.colaboratory.intrinsic+json": {
       "type": "string"
      },
      "text/plain": [
       "\"\\nOut:DecisionTreeClassifier(class_weight=None, criterion='entropy', max_depth=None,\\n            max_features=None, max_leaf_nodes=None,\\n            min_impurity_decrease=0.0, min_impurity_split=None,\\n            min_samples_leaf=1, min_samples_split=2,\\n            min_weight_fraction_leaf=0.0, presort=False, random_state=None,\\n            splitter='best')\\nNow, we will use the trained classifier/ model to predict the labels of the test attributes.\\n\""
      ]
     },
     "execution_count": 7,
     "metadata": {},
     "output_type": "execute_result"
    }
   ],
   "source": [
    "#Training the decision tree classifier. \n",
    "clf.fit(X_train, y_train)\n",
    "\n",
    "\"\"\"\n",
    "Out:DecisionTreeClassifier(class_weight=None, criterion='entropy', max_depth=None,\n",
    "            max_features=None, max_leaf_nodes=None,\n",
    "            min_impurity_decrease=0.0, min_impurity_split=None,\n",
    "            min_samples_leaf=1, min_samples_split=2,\n",
    "            min_weight_fraction_leaf=0.0, presort=False, random_state=None,\n",
    "            splitter='best')\n",
    "Now, we will use the trained classifier/ model to predict the labels of the test attributes.\n",
    "\"\"\""
   ]
  },
  {
   "cell_type": "code",
   "execution_count": null,
   "metadata": {
    "id": "9Sepo2bR_n01"
   },
   "outputs": [],
   "source": [
    "#Predicting labels on the test set.\n",
    "y_pred =  clf.predict(X_test)\n",
    "\n",
    "# \"\"\"We will now evaluate the predicted classes using some metrics. \n",
    "# For this case, we will use 'accuracy_score' to \n",
    "# calculate the accuracy of the predicted labels.\"\"\""
   ]
  },
  {
   "cell_type": "code",
   "execution_count": null,
   "metadata": {
    "colab": {
     "base_uri": "https://localhost:8080/"
    },
    "executionInfo": {
     "elapsed": 36,
     "status": "ok",
     "timestamp": 1660123381816,
     "user": {
      "displayName": "Mikail Raja",
      "userId": "15549851897916935678"
     },
     "user_tz": -330
    },
    "id": "pFN6xQXn_0RA",
    "outputId": "601ace65-0a45-4ce5-f043-90e6ec70e01a"
   },
   "outputs": [
    {
     "name": "stdout",
     "output_type": "stream",
     "text": [
      "Accuracy Score on train data:  1.0\n",
      "Accuracy Score on test data:  0.9736842105263158\n"
     ]
    }
   ],
   "source": [
    "#Importing the accuracy metric from sklearn.metrics library\n",
    "\n",
    "from sklearn.metrics import accuracy_score\n",
    "print('Accuracy Score on train data: ', accuracy_score(y_true=y_train, y_pred=clf.predict(X_train)))\n",
    "print('Accuracy Score on test data: ', accuracy_score(y_true=y_test, y_pred=y_pred))\n",
    "\n",
    "# \"\"\"\n",
    "# #Output:\n",
    "# Out: Accuracy Score on train data:  1.0\n",
    "#     Accuracy Score on test data:  0.9473684210526315\n",
    "# Next, we will tune the parameters of the decision tree to increase its accuracy. One of those parameters is 'min_samples_split', which is the minimum number of samples required to split an internal node. Its default value is equal to 2 because we cannot split on a node containing only one example/ sample.\n",
    "# \"\"\""
   ]
  },
  {
   "cell_type": "code",
   "execution_count": null,
   "metadata": {
    "colab": {
     "base_uri": "https://localhost:8080/"
    },
    "executionInfo": {
     "elapsed": 33,
     "status": "ok",
     "timestamp": 1660123381817,
     "user": {
      "displayName": "Mikail Raja",
      "userId": "15549851897916935678"
     },
     "user_tz": -330
    },
    "id": "b-SGcyXW_3JS",
    "outputId": "210c5935-4ac7-4de9-f10e-59922c0d4175"
   },
   "outputs": [
    {
     "name": "stdout",
     "output_type": "stream",
     "text": [
      "Accuracy Score on train data:  0.9553571428571429\n",
      "Accuracy Score on the test data:  0.9736842105263158\n"
     ]
    }
   ],
   "source": [
    "clf = DecisionTreeClassifier(criterion='entropy', min_samples_split=50)\n",
    "clf.fit(X_train, y_train)\n",
    "print('Accuracy Score on train data: ', accuracy_score(y_true=y_train, y_pred=clf.predict(X_train)))\n",
    "print('Accuracy Score on the test data: ', accuracy_score(y_true=y_test, y_pred=clf.predict(X_test)))\n",
    "\n",
    "# \"\"\"\n",
    "# #Output:\n",
    "# Out: Accuracy Score on train data:  0.9553571428571429\n",
    "#     Accuracy Score on test data:  0.9736842105263158\n",
    "# \"\"\""
   ]
  }
 ],
 "metadata": {
  "colab": {
   "authorship_tag": "ABX9TyM70nK85lGe9dEDApURvHK/",
   "name": "DecisionTrees.ipynb",
   "provenance": []
  },
  "kernelspec": {
   "display_name": "Python 3 (ipykernel)",
   "language": "python",
   "name": "python3"
  },
  "language_info": {
   "codemirror_mode": {
    "name": "ipython",
    "version": 3
   },
   "file_extension": ".py",
   "mimetype": "text/x-python",
   "name": "python",
   "nbconvert_exporter": "python",
   "pygments_lexer": "ipython3",
   "version": "3.10.2"
  }
 },
 "nbformat": 4,
 "nbformat_minor": 1
}
